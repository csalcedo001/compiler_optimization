{
 "cells": [
  {
   "cell_type": "markdown",
   "id": "changed-amino",
   "metadata": {},
   "source": [
    "# Compiler Optimization"
   ]
  },
  {
   "cell_type": "markdown",
   "id": "aquatic-moderator",
   "metadata": {},
   "source": [
    "## Setup\n",
    "\n",
    "### Import Libraries"
   ]
  },
  {
   "cell_type": "code",
   "execution_count": 1,
   "id": "saving-locking",
   "metadata": {},
   "outputs": [],
   "source": [
    "import numpy as np\n",
    "import torch\n",
    "import torch.nn as nn\n",
    "import torch.optim as optim\n",
    "import matplotlib.pyplot as plt\n",
    "import pandas as pd\n",
    "import os\n",
    "from tqdm.notebook import tqdm"
   ]
  },
  {
   "cell_type": "markdown",
   "id": "protective-turner",
   "metadata": {},
   "source": [
    "### Variables"
   ]
  },
  {
   "cell_type": "code",
   "execution_count": 2,
   "id": "regular-series",
   "metadata": {},
   "outputs": [],
   "source": [
    "# Dataset\n",
    "data_path = \"/Users/cesar.salcedo/Documents/research/compiler_optimization/COBAYN/COBAYN/data\"\n",
    "\n",
    "# Hidden layer sizes for MLP\n",
    "hs = [64, 64, 64]\n",
    "\n",
    "# Learning Rate\n",
    "lr = 0.001\n",
    "\n",
    "# Epochs\n",
    "num_epochs = 1\n",
    "\n",
    "# Iterations\n",
    "num_iterations = 1"
   ]
  },
  {
   "cell_type": "markdown",
   "id": "operating-avenue",
   "metadata": {},
   "source": [
    "## Dataset"
   ]
  },
  {
   "cell_type": "code",
   "execution_count": 3,
   "id": "explicit-induction",
   "metadata": {},
   "outputs": [],
   "source": [
    "# Load raw datasets\n",
    "milepost = pd.read_csv(os.path.join(data_path, \"ft_Milepost_cbench.csv\"))\n",
    "mica = pd.read_csv(os.path.join(data_path, \"ft_MICA_cbench.csv\"))\n",
    "raw_runtimes = pd.read_csv(os.path.join(data_path, \"cBench_onPandaboard_24app_5ds.csv\"))"
   ]
  },
  {
   "cell_type": "code",
   "execution_count": 4,
   "id": "cross-melbourne",
   "metadata": {},
   "outputs": [],
   "source": [
    "# Merge milepost and mica into single feature matrix\n",
    "features = pd.merge(milepost, mica, how='inner', left_on=['APP_NAME','DATASET'], right_on=['APPLICATION_NAME','DATASET'])"
   ]
  },
  {
   "cell_type": "code",
   "execution_count": 5,
   "id": "soviet-california",
   "metadata": {},
   "outputs": [],
   "source": [
    "# Transform runtimes to be in a mergable format\n",
    "exe_labels = [\"execution_time_\" + str(i + 1) for i in range(5)]\n",
    "\n",
    "frames = []\n",
    "for i in range(5):\n",
    "    ignored_labels = exe_labels[:]\n",
    "    del ignored_labels[i]\n",
    "    \n",
    "    frame = raw_runtimes.drop(ignored_labels, axis=1)\n",
    "    frame = frame.rename(columns={exe_labels[i] : \"execution_time\"})\n",
    "    frame[\"DATASET\"] = \"dataset\" + str(i + 1)\n",
    "    frames.append(frame)\n",
    "    \n",
    "runtimes = pd.concat(frames, ignore_index=True)\n",
    "runtimes = runtimes.drop([\"code_size\"], axis=1)"
   ]
  },
  {
   "cell_type": "code",
   "execution_count": 6,
   "id": "clear-immunology",
   "metadata": {},
   "outputs": [
    {
     "data": {
      "text/html": [
       "<div>\n",
       "<style scoped>\n",
       "    .dataframe tbody tr th:only-of-type {\n",
       "        vertical-align: middle;\n",
       "    }\n",
       "\n",
       "    .dataframe tbody tr th {\n",
       "        vertical-align: top;\n",
       "    }\n",
       "\n",
       "    .dataframe thead th {\n",
       "        text-align: right;\n",
       "    }\n",
       "</style>\n",
       "<table border=\"1\" class=\"dataframe\">\n",
       "  <thead>\n",
       "    <tr style=\"text-align: right;\">\n",
       "      <th></th>\n",
       "      <th>dataset1</th>\n",
       "      <th>dataset2</th>\n",
       "      <th>dataset3</th>\n",
       "      <th>dataset4</th>\n",
       "      <th>dataset5</th>\n",
       "      <th>noBasicBlock</th>\n",
       "      <th>nobasicBlockSingleSocc</th>\n",
       "      <th>nobasicBlock2Socc</th>\n",
       "      <th>noBasicBlockSoccMore</th>\n",
       "      <th>noBasicBlockPred</th>\n",
       "      <th>...</th>\n",
       "      <th>mem_write_global_stride_512</th>\n",
       "      <th>mem_write_global_stride_4096</th>\n",
       "      <th>funsafe_math_optimizations</th>\n",
       "      <th>fno_guess_branch_probability</th>\n",
       "      <th>fno_ivopts</th>\n",
       "      <th>fno_tree_loop_optimize</th>\n",
       "      <th>fno_inline_functions</th>\n",
       "      <th>funroll_all_loops</th>\n",
       "      <th>o2</th>\n",
       "      <th>execution_time</th>\n",
       "    </tr>\n",
       "  </thead>\n",
       "  <tbody>\n",
       "    <tr>\n",
       "      <th>0</th>\n",
       "      <td>1</td>\n",
       "      <td>0</td>\n",
       "      <td>0</td>\n",
       "      <td>0</td>\n",
       "      <td>0</td>\n",
       "      <td>129</td>\n",
       "      <td>37</td>\n",
       "      <td>31</td>\n",
       "      <td>0</td>\n",
       "      <td>61</td>\n",
       "      <td>...</td>\n",
       "      <td>15761599</td>\n",
       "      <td>15761792</td>\n",
       "      <td>0</td>\n",
       "      <td>0</td>\n",
       "      <td>0</td>\n",
       "      <td>0</td>\n",
       "      <td>0</td>\n",
       "      <td>0</td>\n",
       "      <td>0</td>\n",
       "      <td>2010.640</td>\n",
       "    </tr>\n",
       "    <tr>\n",
       "      <th>1</th>\n",
       "      <td>1</td>\n",
       "      <td>0</td>\n",
       "      <td>0</td>\n",
       "      <td>0</td>\n",
       "      <td>0</td>\n",
       "      <td>129</td>\n",
       "      <td>37</td>\n",
       "      <td>31</td>\n",
       "      <td>0</td>\n",
       "      <td>61</td>\n",
       "      <td>...</td>\n",
       "      <td>15761599</td>\n",
       "      <td>15761792</td>\n",
       "      <td>0</td>\n",
       "      <td>0</td>\n",
       "      <td>0</td>\n",
       "      <td>0</td>\n",
       "      <td>0</td>\n",
       "      <td>0</td>\n",
       "      <td>1</td>\n",
       "      <td>1777.070</td>\n",
       "    </tr>\n",
       "    <tr>\n",
       "      <th>2</th>\n",
       "      <td>1</td>\n",
       "      <td>0</td>\n",
       "      <td>0</td>\n",
       "      <td>0</td>\n",
       "      <td>0</td>\n",
       "      <td>129</td>\n",
       "      <td>37</td>\n",
       "      <td>31</td>\n",
       "      <td>0</td>\n",
       "      <td>61</td>\n",
       "      <td>...</td>\n",
       "      <td>15761599</td>\n",
       "      <td>15761792</td>\n",
       "      <td>0</td>\n",
       "      <td>0</td>\n",
       "      <td>0</td>\n",
       "      <td>0</td>\n",
       "      <td>0</td>\n",
       "      <td>1</td>\n",
       "      <td>0</td>\n",
       "      <td>2504.950</td>\n",
       "    </tr>\n",
       "    <tr>\n",
       "      <th>3</th>\n",
       "      <td>1</td>\n",
       "      <td>0</td>\n",
       "      <td>0</td>\n",
       "      <td>0</td>\n",
       "      <td>0</td>\n",
       "      <td>129</td>\n",
       "      <td>37</td>\n",
       "      <td>31</td>\n",
       "      <td>0</td>\n",
       "      <td>61</td>\n",
       "      <td>...</td>\n",
       "      <td>15761599</td>\n",
       "      <td>15761792</td>\n",
       "      <td>0</td>\n",
       "      <td>0</td>\n",
       "      <td>0</td>\n",
       "      <td>0</td>\n",
       "      <td>0</td>\n",
       "      <td>1</td>\n",
       "      <td>1</td>\n",
       "      <td>1715.030</td>\n",
       "    </tr>\n",
       "    <tr>\n",
       "      <th>4</th>\n",
       "      <td>1</td>\n",
       "      <td>0</td>\n",
       "      <td>0</td>\n",
       "      <td>0</td>\n",
       "      <td>0</td>\n",
       "      <td>129</td>\n",
       "      <td>37</td>\n",
       "      <td>31</td>\n",
       "      <td>0</td>\n",
       "      <td>61</td>\n",
       "      <td>...</td>\n",
       "      <td>15761599</td>\n",
       "      <td>15761792</td>\n",
       "      <td>0</td>\n",
       "      <td>0</td>\n",
       "      <td>0</td>\n",
       "      <td>0</td>\n",
       "      <td>1</td>\n",
       "      <td>0</td>\n",
       "      <td>0</td>\n",
       "      <td>1695.720</td>\n",
       "    </tr>\n",
       "    <tr>\n",
       "      <th>...</th>\n",
       "      <td>...</td>\n",
       "      <td>...</td>\n",
       "      <td>...</td>\n",
       "      <td>...</td>\n",
       "      <td>...</td>\n",
       "      <td>...</td>\n",
       "      <td>...</td>\n",
       "      <td>...</td>\n",
       "      <td>...</td>\n",
       "      <td>...</td>\n",
       "      <td>...</td>\n",
       "      <td>...</td>\n",
       "      <td>...</td>\n",
       "      <td>...</td>\n",
       "      <td>...</td>\n",
       "      <td>...</td>\n",
       "      <td>...</td>\n",
       "      <td>...</td>\n",
       "      <td>...</td>\n",
       "      <td>...</td>\n",
       "      <td>...</td>\n",
       "    </tr>\n",
       "    <tr>\n",
       "      <th>15355</th>\n",
       "      <td>0</td>\n",
       "      <td>0</td>\n",
       "      <td>0</td>\n",
       "      <td>0</td>\n",
       "      <td>1</td>\n",
       "      <td>3299</td>\n",
       "      <td>1486</td>\n",
       "      <td>1558</td>\n",
       "      <td>16</td>\n",
       "      <td>2205</td>\n",
       "      <td>...</td>\n",
       "      <td>4188468</td>\n",
       "      <td>4568914</td>\n",
       "      <td>1</td>\n",
       "      <td>1</td>\n",
       "      <td>1</td>\n",
       "      <td>1</td>\n",
       "      <td>0</td>\n",
       "      <td>1</td>\n",
       "      <td>1</td>\n",
       "      <td>246.399</td>\n",
       "    </tr>\n",
       "    <tr>\n",
       "      <th>15356</th>\n",
       "      <td>0</td>\n",
       "      <td>0</td>\n",
       "      <td>0</td>\n",
       "      <td>0</td>\n",
       "      <td>1</td>\n",
       "      <td>3299</td>\n",
       "      <td>1486</td>\n",
       "      <td>1558</td>\n",
       "      <td>16</td>\n",
       "      <td>2205</td>\n",
       "      <td>...</td>\n",
       "      <td>4188468</td>\n",
       "      <td>4568914</td>\n",
       "      <td>1</td>\n",
       "      <td>1</td>\n",
       "      <td>1</td>\n",
       "      <td>1</td>\n",
       "      <td>1</td>\n",
       "      <td>0</td>\n",
       "      <td>0</td>\n",
       "      <td>239.736</td>\n",
       "    </tr>\n",
       "    <tr>\n",
       "      <th>15357</th>\n",
       "      <td>0</td>\n",
       "      <td>0</td>\n",
       "      <td>0</td>\n",
       "      <td>0</td>\n",
       "      <td>1</td>\n",
       "      <td>3299</td>\n",
       "      <td>1486</td>\n",
       "      <td>1558</td>\n",
       "      <td>16</td>\n",
       "      <td>2205</td>\n",
       "      <td>...</td>\n",
       "      <td>4188468</td>\n",
       "      <td>4568914</td>\n",
       "      <td>1</td>\n",
       "      <td>1</td>\n",
       "      <td>1</td>\n",
       "      <td>1</td>\n",
       "      <td>1</td>\n",
       "      <td>0</td>\n",
       "      <td>1</td>\n",
       "      <td>190.470</td>\n",
       "    </tr>\n",
       "    <tr>\n",
       "      <th>15358</th>\n",
       "      <td>0</td>\n",
       "      <td>0</td>\n",
       "      <td>0</td>\n",
       "      <td>0</td>\n",
       "      <td>1</td>\n",
       "      <td>3299</td>\n",
       "      <td>1486</td>\n",
       "      <td>1558</td>\n",
       "      <td>16</td>\n",
       "      <td>2205</td>\n",
       "      <td>...</td>\n",
       "      <td>4188468</td>\n",
       "      <td>4568914</td>\n",
       "      <td>1</td>\n",
       "      <td>1</td>\n",
       "      <td>1</td>\n",
       "      <td>1</td>\n",
       "      <td>1</td>\n",
       "      <td>1</td>\n",
       "      <td>0</td>\n",
       "      <td>247.131</td>\n",
       "    </tr>\n",
       "    <tr>\n",
       "      <th>15359</th>\n",
       "      <td>0</td>\n",
       "      <td>0</td>\n",
       "      <td>0</td>\n",
       "      <td>0</td>\n",
       "      <td>1</td>\n",
       "      <td>3299</td>\n",
       "      <td>1486</td>\n",
       "      <td>1558</td>\n",
       "      <td>16</td>\n",
       "      <td>2205</td>\n",
       "      <td>...</td>\n",
       "      <td>4188468</td>\n",
       "      <td>4568914</td>\n",
       "      <td>1</td>\n",
       "      <td>1</td>\n",
       "      <td>1</td>\n",
       "      <td>1</td>\n",
       "      <td>1</td>\n",
       "      <td>1</td>\n",
       "      <td>1</td>\n",
       "      <td>178.202</td>\n",
       "    </tr>\n",
       "  </tbody>\n",
       "</table>\n",
       "<p>15360 rows × 111 columns</p>\n",
       "</div>"
      ],
      "text/plain": [
       "       dataset1  dataset2  dataset3  dataset4  dataset5  noBasicBlock  \\\n",
       "0             1         0         0         0         0           129   \n",
       "1             1         0         0         0         0           129   \n",
       "2             1         0         0         0         0           129   \n",
       "3             1         0         0         0         0           129   \n",
       "4             1         0         0         0         0           129   \n",
       "...         ...       ...       ...       ...       ...           ...   \n",
       "15355         0         0         0         0         1          3299   \n",
       "15356         0         0         0         0         1          3299   \n",
       "15357         0         0         0         0         1          3299   \n",
       "15358         0         0         0         0         1          3299   \n",
       "15359         0         0         0         0         1          3299   \n",
       "\n",
       "       nobasicBlockSingleSocc  nobasicBlock2Socc  noBasicBlockSoccMore  \\\n",
       "0                          37                 31                     0   \n",
       "1                          37                 31                     0   \n",
       "2                          37                 31                     0   \n",
       "3                          37                 31                     0   \n",
       "4                          37                 31                     0   \n",
       "...                       ...                ...                   ...   \n",
       "15355                    1486               1558                    16   \n",
       "15356                    1486               1558                    16   \n",
       "15357                    1486               1558                    16   \n",
       "15358                    1486               1558                    16   \n",
       "15359                    1486               1558                    16   \n",
       "\n",
       "       noBasicBlockPred  ...  mem_write_global_stride_512  \\\n",
       "0                    61  ...                     15761599   \n",
       "1                    61  ...                     15761599   \n",
       "2                    61  ...                     15761599   \n",
       "3                    61  ...                     15761599   \n",
       "4                    61  ...                     15761599   \n",
       "...                 ...  ...                          ...   \n",
       "15355              2205  ...                      4188468   \n",
       "15356              2205  ...                      4188468   \n",
       "15357              2205  ...                      4188468   \n",
       "15358              2205  ...                      4188468   \n",
       "15359              2205  ...                      4188468   \n",
       "\n",
       "       mem_write_global_stride_4096  funsafe_math_optimizations  \\\n",
       "0                          15761792                           0   \n",
       "1                          15761792                           0   \n",
       "2                          15761792                           0   \n",
       "3                          15761792                           0   \n",
       "4                          15761792                           0   \n",
       "...                             ...                         ...   \n",
       "15355                       4568914                           1   \n",
       "15356                       4568914                           1   \n",
       "15357                       4568914                           1   \n",
       "15358                       4568914                           1   \n",
       "15359                       4568914                           1   \n",
       "\n",
       "       fno_guess_branch_probability  fno_ivopts  fno_tree_loop_optimize  \\\n",
       "0                                 0           0                       0   \n",
       "1                                 0           0                       0   \n",
       "2                                 0           0                       0   \n",
       "3                                 0           0                       0   \n",
       "4                                 0           0                       0   \n",
       "...                             ...         ...                     ...   \n",
       "15355                             1           1                       1   \n",
       "15356                             1           1                       1   \n",
       "15357                             1           1                       1   \n",
       "15358                             1           1                       1   \n",
       "15359                             1           1                       1   \n",
       "\n",
       "       fno_inline_functions  funroll_all_loops  o2  execution_time  \n",
       "0                         0                  0   0        2010.640  \n",
       "1                         0                  0   1        1777.070  \n",
       "2                         0                  1   0        2504.950  \n",
       "3                         0                  1   1        1715.030  \n",
       "4                         1                  0   0        1695.720  \n",
       "...                     ...                ...  ..             ...  \n",
       "15355                     0                  1   1         246.399  \n",
       "15356                     1                  0   0         239.736  \n",
       "15357                     1                  0   1         190.470  \n",
       "15358                     1                  1   0         247.131  \n",
       "15359                     1                  1   1         178.202  \n",
       "\n",
       "[15360 rows x 111 columns]"
      ]
     },
     "execution_count": 6,
     "metadata": {},
     "output_type": "execute_result"
    }
   ],
   "source": [
    "# Merge all together, one-hot encode dataset name, and replace strings by numbers\n",
    "data = pd.merge(features, runtimes, how='inner', left_on=['APP_NAME','DATASET'], right_on=['APP_NAME','DATASET'])\n",
    "data = pd.concat([pd.get_dummies(data[\"DATASET\"]), data], axis=1)\n",
    "data.drop([\"APP_NAME\", \"APPLICATION_NAME\", \"DATASET\"], axis=1, inplace=True)\n",
    "data[data.columns[-8:-1]] = 1 * (data[data.columns[-8:-1]] != \"X\")\n",
    "data"
   ]
  },
  {
   "cell_type": "code",
   "execution_count": 79,
   "id": "earned-williams",
   "metadata": {},
   "outputs": [
    {
     "name": "stdout",
     "output_type": "stream",
     "text": [
      "x shape: (15360, 50)\n",
      "y shape: (15360, 1)\n"
     ]
    }
   ],
   "source": [
    "data_x = data.drop([\"execution_time\"], axis=1).to_numpy()\n",
    "data_x = data_x[:, 60:]\n",
    "data_y = data[[\"execution_time\"]].to_numpy()\n",
    "\n",
    "print(\"x shape: {}\".format(data_x.shape))\n",
    "print(\"y shape: {}\".format(data_y.shape))"
   ]
  },
  {
   "cell_type": "code",
   "execution_count": 80,
   "id": "joint-conflict",
   "metadata": {},
   "outputs": [],
   "source": [
    "y_reshaped = data_y.reshape(128, -1)\n",
    "data_y = (y_reshaped / y_reshaped[:, 1:2]).reshape(-1, 1)"
   ]
  },
  {
   "cell_type": "code",
   "execution_count": 81,
   "id": "thermal-fifth",
   "metadata": {},
   "outputs": [],
   "source": [
    "test_programs = 5\n",
    "\n",
    "idx = 5 * 128 * test_programs\n",
    "\n",
    "test_x = data_x[:idx]\n",
    "train_x = data_x[idx:]\n",
    "\n",
    "test_y = data_y[:idx]\n",
    "train_y = data_y[idx:]"
   ]
  },
  {
   "cell_type": "code",
   "execution_count": 82,
   "id": "eligible-investor",
   "metadata": {},
   "outputs": [],
   "source": [
    "from sklearn.preprocessing import StandardScaler\n",
    "\n",
    "scaler_x = StandardScaler()\n",
    "scaler_x.fit(train_x)\n",
    "train_x = scaler_x.transform(train_x)\n",
    "test_x = scaler_x.transform(test_x)\n",
    "\n",
    "# scaler_y = StandardScaler()\n",
    "# scaler_y.fit(train_y)\n",
    "# train_y = scaler_y.transform(train_y)"
   ]
  },
  {
   "cell_type": "markdown",
   "id": "atlantic-reduction",
   "metadata": {},
   "source": [
    "## Model"
   ]
  },
  {
   "cell_type": "code",
   "execution_count": 83,
   "id": "designed-pierce",
   "metadata": {},
   "outputs": [
    {
     "name": "stdout",
     "output_type": "stream",
     "text": [
      "Sequential(\n",
      "  (0): Linear(in_features=50, out_features=64, bias=True)\n",
      "  (1): ReLU()\n",
      "  (2): Linear(in_features=64, out_features=64, bias=True)\n",
      "  (3): ReLU()\n",
      "  (4): Linear(in_features=64, out_features=64, bias=True)\n",
      "  (5): ReLU()\n",
      "  (6): Linear(in_features=64, out_features=1, bias=True)\n",
      ")\n"
     ]
    }
   ],
   "source": [
    "# Layer sizes\n",
    "ls = [train_x.shape[1]] + hs\n",
    "\n",
    "model_list = []\n",
    "\n",
    "for i in range(len(ls) - 1):\n",
    "    model_list.append(nn.Linear(ls[i], ls[i + 1]))\n",
    "    model_list.append(nn.ReLU())\n",
    "\n",
    "model_list.append(nn.Linear(ls[len(ls) - 1], 1))\n",
    "\n",
    "model = nn.Sequential(*model_list)\n",
    "\n",
    "print(model)"
   ]
  },
  {
   "cell_type": "markdown",
   "id": "complimentary-chosen",
   "metadata": {},
   "source": [
    "### Optimizer and Criterion"
   ]
  },
  {
   "cell_type": "code",
   "execution_count": 84,
   "id": "architectural-intro",
   "metadata": {},
   "outputs": [],
   "source": [
    "criterion = nn.MSELoss()\n",
    "\n",
    "optimizer = optim.Adam(model.parameters(), lr=lr)"
   ]
  },
  {
   "cell_type": "markdown",
   "id": "fundamental-stations",
   "metadata": {},
   "source": [
    "## Training loop"
   ]
  },
  {
   "cell_type": "code",
   "execution_count": 13,
   "id": "russian-prairie",
   "metadata": {},
   "outputs": [
    {
     "data": {
      "application/vnd.jupyter.widget-view+json": {
       "model_id": "63cde6220b2a43b29e21bd46638d8870",
       "version_major": 2,
       "version_minor": 0
      },
      "text/plain": [
       "  0%|          | 0/1 [00:00<?, ?it/s]"
      ]
     },
     "metadata": {},
     "output_type": "display_data"
    },
    {
     "data": {
      "application/vnd.jupyter.widget-view+json": {
       "model_id": "d83ed96d78464cafa5ca77974bf3f763",
       "version_major": 2,
       "version_minor": 0
      },
      "text/plain": [
       "  0%|          | 0/12160 [00:00<?, ?it/s]"
      ]
     },
     "metadata": {},
     "output_type": "display_data"
    }
   ],
   "source": [
    "losses = []\n",
    "\n",
    "for epoch in tqdm(range(num_epochs)):\n",
    "    for i in tqdm(range(len(train_x))):\n",
    "        x = torch.Tensor(train_x[i:i+1])\n",
    "        y = torch.Tensor(train_y[i:i+1])\n",
    "        \n",
    "        y_hat = model(x)\n",
    "        \n",
    "        loss = criterion(y_hat, y)\n",
    "        \n",
    "        optimizer.zero_grad()\n",
    "        loss.backward()\n",
    "        optimizer.step()\n",
    "        \n",
    "        losses.append(loss.item())"
   ]
  },
  {
   "cell_type": "markdown",
   "id": "flexible-legend",
   "metadata": {},
   "source": [
    "## Plots"
   ]
  },
  {
   "cell_type": "code",
   "execution_count": 14,
   "id": "competent-lincoln",
   "metadata": {},
   "outputs": [
    {
     "data": {
      "image/png": "[encoded data removed]",
      "text/plain": [
       "<Figure size 936x720 with 1 Axes>"
      ]
     },
     "metadata": {
      "needs_background": "light"
     },
     "output_type": "display_data"
    }
   ],
   "source": [
    "fig = plt.figure(figsize=(13,10))\n",
    "plt.plot(losses)\n",
    "plt.show()\n",
    "plt.close(fig)"
   ]
  },
  {
   "cell_type": "markdown",
   "id": "muslim-matthew",
   "metadata": {},
   "source": [
    "## Another approach"
   ]
  },
  {
   "cell_type": "code",
   "execution_count": 85,
   "id": "announced-addiction",
   "metadata": {},
   "outputs": [],
   "source": [
    "from tensorflow.keras.models import Sequential\n",
    "from tensorflow.keras.layers import Dense"
   ]
  },
  {
   "cell_type": "code",
   "execution_count": 86,
   "id": "faced-blade",
   "metadata": {},
   "outputs": [
    {
     "data": {
      "text/plain": [
       "50"
      ]
     },
     "execution_count": 86,
     "metadata": {},
     "output_type": "execute_result"
    }
   ],
   "source": [
    "train_x.shape[1]"
   ]
  },
  {
   "cell_type": "code",
   "execution_count": 87,
   "id": "efficient-registration",
   "metadata": {},
   "outputs": [],
   "source": [
    "model = Sequential()\n",
    "model.add(Dense(100, input_shape=(train_x.shape[1], ), activation='relu'))\n",
    "model.add(Dense(100, activation='relu'))\n",
    "model.add(Dense(50, activation='relu'))\n",
    "model.add(Dense(1, activation='linear'))"
   ]
  },
  {
   "cell_type": "code",
   "execution_count": 88,
   "id": "played-albany",
   "metadata": {
    "scrolled": true
   },
   "outputs": [
    {
     "name": "stdout",
     "output_type": "stream",
     "text": [
      "Epoch 1/100\n",
      "39/39 [==============================] - 1s 5ms/step - loss: 165.5759 - mean_absolute_error: 4.8524 - val_loss: 13.2370 - val_mean_absolute_error: 2.2201\n",
      "Epoch 2/100\n",
      "39/39 [==============================] - 0s 2ms/step - loss: 116.7387 - mean_absolute_error: 4.7091 - val_loss: 10.9486 - val_mean_absolute_error: 1.8869\n",
      "Epoch 3/100\n",
      "39/39 [==============================] - 0s 2ms/step - loss: 86.7614 - mean_absolute_error: 4.0522 - val_loss: 12.7201 - val_mean_absolute_error: 1.8862\n",
      "Epoch 4/100\n",
      "39/39 [==============================] - 0s 2ms/step - loss: 65.7884 - mean_absolute_error: 3.2108 - val_loss: 13.9045 - val_mean_absolute_error: 1.8036\n",
      "Epoch 5/100\n",
      "39/39 [==============================] - 0s 2ms/step - loss: 51.3099 - mean_absolute_error: 2.7772 - val_loss: 27.6580 - val_mean_absolute_error: 2.2652\n",
      "Epoch 6/100\n",
      "39/39 [==============================] - 0s 2ms/step - loss: 43.1901 - mean_absolute_error: 2.5157 - val_loss: 34.9765 - val_mean_absolute_error: 2.4656\n",
      "Epoch 7/100\n",
      "39/39 [==============================] - 0s 2ms/step - loss: 36.7948 - mean_absolute_error: 2.3348 - val_loss: 44.9669 - val_mean_absolute_error: 2.6992\n",
      "Epoch 8/100\n",
      "39/39 [==============================] - 0s 2ms/step - loss: 29.5549 - mean_absolute_error: 2.1363 - val_loss: 47.5312 - val_mean_absolute_error: 2.7823\n",
      "Epoch 9/100\n",
      "39/39 [==============================] - 0s 3ms/step - loss: 26.4229 - mean_absolute_error: 2.0121 - val_loss: 53.6836 - val_mean_absolute_error: 2.8537\n",
      "Epoch 10/100\n",
      "39/39 [==============================] - 0s 2ms/step - loss: 23.1386 - mean_absolute_error: 1.8895 - val_loss: 56.2662 - val_mean_absolute_error: 2.9134\n",
      "Epoch 11/100\n",
      "39/39 [==============================] - 0s 2ms/step - loss: 20.2751 - mean_absolute_error: 1.7753 - val_loss: 62.1270 - val_mean_absolute_error: 3.0525\n",
      "Epoch 12/100\n",
      "39/39 [==============================] - 0s 2ms/step - loss: 18.3755 - mean_absolute_error: 1.7138 - val_loss: 82.0625 - val_mean_absolute_error: 3.4292\n",
      "Epoch 13/100\n",
      "39/39 [==============================] - 0s 2ms/step - loss: 16.7041 - mean_absolute_error: 1.6411 - val_loss: 86.4110 - val_mean_absolute_error: 3.5130\n",
      "Epoch 14/100\n",
      "39/39 [==============================] - 0s 2ms/step - loss: 15.4407 - mean_absolute_error: 1.5564 - val_loss: 74.2859 - val_mean_absolute_error: 3.2573\n",
      "Epoch 15/100\n",
      "39/39 [==============================] - 0s 3ms/step - loss: 11.3684 - mean_absolute_error: 1.4201 - val_loss: 91.1822 - val_mean_absolute_error: 3.5687\n",
      "Epoch 16/100\n",
      "39/39 [==============================] - 0s 2ms/step - loss: 11.3012 - mean_absolute_error: 1.4011 - val_loss: 104.9250 - val_mean_absolute_error: 3.7890\n",
      "Epoch 17/100\n",
      "39/39 [==============================] - 0s 2ms/step - loss: 10.8540 - mean_absolute_error: 1.3594 - val_loss: 102.3853 - val_mean_absolute_error: 3.7643\n",
      "Epoch 18/100\n",
      "39/39 [==============================] - 0s 3ms/step - loss: 10.0903 - mean_absolute_error: 1.3325 - val_loss: 110.2037 - val_mean_absolute_error: 3.8886\n",
      "Epoch 19/100\n",
      "39/39 [==============================] - 0s 3ms/step - loss: 9.2083 - mean_absolute_error: 1.2938 - val_loss: 114.8047 - val_mean_absolute_error: 3.9656\n",
      "Epoch 20/100\n",
      "39/39 [==============================] - 0s 3ms/step - loss: 9.3692 - mean_absolute_error: 1.2772 - val_loss: 110.6231 - val_mean_absolute_error: 3.9736\n",
      "Epoch 21/100\n",
      "39/39 [==============================] - 0s 2ms/step - loss: 8.4433 - mean_absolute_error: 1.2512 - val_loss: 118.4557 - val_mean_absolute_error: 4.0607\n",
      "Epoch 22/100\n",
      "39/39 [==============================] - 0s 3ms/step - loss: 8.0471 - mean_absolute_error: 1.2150 - val_loss: 107.4820 - val_mean_absolute_error: 3.8636\n",
      "Epoch 23/100\n",
      "39/39 [==============================] - 0s 2ms/step - loss: 9.0233 - mean_absolute_error: 1.2300 - val_loss: 115.9431 - val_mean_absolute_error: 3.9793\n",
      "Epoch 24/100\n",
      "39/39 [==============================] - 0s 2ms/step - loss: 6.8507 - mean_absolute_error: 1.1655 - val_loss: 122.5811 - val_mean_absolute_error: 4.0713\n",
      "Epoch 25/100\n",
      "39/39 [==============================] - 0s 2ms/step - loss: 9.1344 - mean_absolute_error: 1.2365 - val_loss: 114.5047 - val_mean_absolute_error: 3.9584\n",
      "Epoch 26/100\n",
      "39/39 [==============================] - 0s 2ms/step - loss: 6.5697 - mean_absolute_error: 1.1344 - val_loss: 124.1585 - val_mean_absolute_error: 4.1087\n",
      "Epoch 27/100\n",
      "39/39 [==============================] - 0s 3ms/step - loss: 6.0758 - mean_absolute_error: 1.1153 - val_loss: 127.7071 - val_mean_absolute_error: 4.2082\n",
      "Epoch 28/100\n",
      "39/39 [==============================] - 0s 3ms/step - loss: 6.1031 - mean_absolute_error: 1.1027 - val_loss: 144.7161 - val_mean_absolute_error: 4.4113\n",
      "Epoch 29/100\n",
      "39/39 [==============================] - 0s 2ms/step - loss: 6.6795 - mean_absolute_error: 1.1329 - val_loss: 130.5695 - val_mean_absolute_error: 4.2233\n",
      "Epoch 30/100\n",
      "39/39 [==============================] - 0s 2ms/step - loss: 5.4444 - mean_absolute_error: 1.0740 - val_loss: 128.0692 - val_mean_absolute_error: 4.1631\n",
      "Epoch 31/100\n",
      "39/39 [==============================] - 0s 2ms/step - loss: 5.3412 - mean_absolute_error: 1.0629 - val_loss: 127.6073 - val_mean_absolute_error: 4.1918\n",
      "Epoch 32/100\n",
      "39/39 [==============================] - 0s 3ms/step - loss: 5.1313 - mean_absolute_error: 1.0450 - val_loss: 134.6050 - val_mean_absolute_error: 4.2695\n",
      "Epoch 33/100\n",
      "39/39 [==============================] - 0s 3ms/step - loss: 4.9408 - mean_absolute_error: 1.0420 - val_loss: 129.2686 - val_mean_absolute_error: 4.1837\n",
      "Epoch 34/100\n",
      "39/39 [==============================] - 0s 3ms/step - loss: 5.6495 - mean_absolute_error: 1.0663 - val_loss: 126.5680 - val_mean_absolute_error: 4.1742\n",
      "Epoch 35/100\n",
      "39/39 [==============================] - 0s 3ms/step - loss: 5.3661 - mean_absolute_error: 1.0563 - val_loss: 127.5081 - val_mean_absolute_error: 4.1583\n",
      "Epoch 36/100\n",
      "39/39 [==============================] - 0s 3ms/step - loss: 4.5788 - mean_absolute_error: 1.0219 - val_loss: 127.4367 - val_mean_absolute_error: 4.1555\n",
      "Epoch 37/100\n",
      "39/39 [==============================] - 0s 3ms/step - loss: 4.5871 - mean_absolute_error: 1.0241 - val_loss: 126.3349 - val_mean_absolute_error: 4.1379\n",
      "Epoch 38/100\n",
      "39/39 [==============================] - 0s 3ms/step - loss: 5.9099 - mean_absolute_error: 1.0993 - val_loss: 128.9841 - val_mean_absolute_error: 4.1717\n",
      "Epoch 39/100\n",
      "39/39 [==============================] - 0s 3ms/step - loss: 5.4511 - mean_absolute_error: 1.0929 - val_loss: 129.1489 - val_mean_absolute_error: 4.1760\n",
      "Epoch 40/100\n",
      "39/39 [==============================] - 0s 2ms/step - loss: 4.7005 - mean_absolute_error: 1.0132 - val_loss: 128.0512 - val_mean_absolute_error: 4.1683\n",
      "Epoch 41/100\n",
      "39/39 [==============================] - 0s 2ms/step - loss: 4.9355 - mean_absolute_error: 1.0235 - val_loss: 126.3643 - val_mean_absolute_error: 4.1212\n",
      "Epoch 42/100\n",
      "39/39 [==============================] - 0s 3ms/step - loss: 4.7332 - mean_absolute_error: 1.0389 - val_loss: 122.6263 - val_mean_absolute_error: 4.0940\n",
      "Epoch 43/100\n",
      "39/39 [==============================] - 0s 2ms/step - loss: 4.1733 - mean_absolute_error: 0.9973 - val_loss: 130.1580 - val_mean_absolute_error: 4.1865\n",
      "Epoch 44/100\n",
      "39/39 [==============================] - 0s 3ms/step - loss: 4.3683 - mean_absolute_error: 0.9943 - val_loss: 124.0919 - val_mean_absolute_error: 4.1091\n",
      "Epoch 45/100\n",
      "39/39 [==============================] - 0s 2ms/step - loss: 4.3621 - mean_absolute_error: 1.0038 - val_loss: 120.1334 - val_mean_absolute_error: 4.0456\n",
      "Epoch 46/100\n",
      "39/39 [==============================] - 0s 2ms/step - loss: 4.2135 - mean_absolute_error: 0.9922 - val_loss: 126.3245 - val_mean_absolute_error: 4.1391\n",
      "Epoch 47/100\n",
      "39/39 [==============================] - 0s 2ms/step - loss: 4.0925 - mean_absolute_error: 0.9789 - val_loss: 121.4766 - val_mean_absolute_error: 4.0477\n",
      "Epoch 48/100\n",
      "39/39 [==============================] - 0s 2ms/step - loss: 4.1508 - mean_absolute_error: 0.9814 - val_loss: 117.4521 - val_mean_absolute_error: 4.0210\n",
      "Epoch 49/100\n",
      "39/39 [==============================] - 0s 2ms/step - loss: 4.0450 - mean_absolute_error: 0.9700 - val_loss: 125.0089 - val_mean_absolute_error: 4.1389\n",
      "Epoch 50/100\n"
     ]
    },
    {
     "name": "stdout",
     "output_type": "stream",
     "text": [
      "39/39 [==============================] - 0s 3ms/step - loss: 3.9876 - mean_absolute_error: 0.9670 - val_loss: 118.7455 - val_mean_absolute_error: 4.0224\n",
      "Epoch 51/100\n",
      "39/39 [==============================] - 0s 2ms/step - loss: 4.0705 - mean_absolute_error: 0.9812 - val_loss: 117.7596 - val_mean_absolute_error: 3.9873\n",
      "Epoch 52/100\n",
      "39/39 [==============================] - 0s 2ms/step - loss: 3.9710 - mean_absolute_error: 0.9606 - val_loss: 113.7015 - val_mean_absolute_error: 3.9282\n",
      "Epoch 53/100\n",
      "39/39 [==============================] - 0s 2ms/step - loss: 4.7981 - mean_absolute_error: 1.0249 - val_loss: 102.5700 - val_mean_absolute_error: 3.7421\n",
      "Epoch 54/100\n",
      "39/39 [==============================] - 0s 2ms/step - loss: 4.5291 - mean_absolute_error: 1.0081 - val_loss: 116.2491 - val_mean_absolute_error: 3.9696\n",
      "Epoch 55/100\n",
      "39/39 [==============================] - 0s 2ms/step - loss: 4.0235 - mean_absolute_error: 0.9620 - val_loss: 120.7424 - val_mean_absolute_error: 4.0431\n",
      "Epoch 56/100\n",
      "39/39 [==============================] - 0s 2ms/step - loss: 3.9773 - mean_absolute_error: 0.9661 - val_loss: 115.5444 - val_mean_absolute_error: 3.9485\n",
      "Epoch 57/100\n",
      "39/39 [==============================] - 0s 2ms/step - loss: 4.4737 - mean_absolute_error: 1.0007 - val_loss: 110.1018 - val_mean_absolute_error: 3.9087\n",
      "Epoch 58/100\n",
      "39/39 [==============================] - 0s 2ms/step - loss: 4.0140 - mean_absolute_error: 0.9758 - val_loss: 120.0965 - val_mean_absolute_error: 4.0152\n",
      "Epoch 59/100\n",
      "39/39 [==============================] - 0s 2ms/step - loss: 3.8149 - mean_absolute_error: 0.9496 - val_loss: 121.2870 - val_mean_absolute_error: 4.0503\n",
      "Epoch 60/100\n",
      "39/39 [==============================] - 0s 2ms/step - loss: 3.7836 - mean_absolute_error: 0.9406 - val_loss: 111.2165 - val_mean_absolute_error: 3.9070\n",
      "Epoch 61/100\n",
      "39/39 [==============================] - 0s 2ms/step - loss: 4.0755 - mean_absolute_error: 0.9688 - val_loss: 110.5245 - val_mean_absolute_error: 3.8754\n",
      "Epoch 62/100\n",
      "39/39 [==============================] - 0s 2ms/step - loss: 3.9809 - mean_absolute_error: 0.9683 - val_loss: 119.4771 - val_mean_absolute_error: 4.0142\n",
      "Epoch 63/100\n",
      "39/39 [==============================] - 0s 2ms/step - loss: 3.9976 - mean_absolute_error: 0.9698 - val_loss: 115.8382 - val_mean_absolute_error: 3.9574\n",
      "Epoch 64/100\n",
      "39/39 [==============================] - 0s 2ms/step - loss: 3.7331 - mean_absolute_error: 0.9387 - val_loss: 114.5825 - val_mean_absolute_error: 3.9366\n",
      "Epoch 65/100\n",
      "39/39 [==============================] - 0s 2ms/step - loss: 3.9227 - mean_absolute_error: 0.9662 - val_loss: 127.0003 - val_mean_absolute_error: 4.1591\n",
      "Epoch 66/100\n",
      "39/39 [==============================] - 0s 3ms/step - loss: 4.6552 - mean_absolute_error: 1.0285 - val_loss: 111.8945 - val_mean_absolute_error: 3.8919\n",
      "Epoch 67/100\n",
      "39/39 [==============================] - 0s 2ms/step - loss: 3.7353 - mean_absolute_error: 0.9398 - val_loss: 110.5345 - val_mean_absolute_error: 3.8976\n",
      "Epoch 68/100\n",
      "39/39 [==============================] - 0s 2ms/step - loss: 3.7424 - mean_absolute_error: 0.9369 - val_loss: 107.1197 - val_mean_absolute_error: 3.8008\n",
      "Epoch 69/100\n",
      "39/39 [==============================] - 0s 2ms/step - loss: 3.8912 - mean_absolute_error: 0.9522 - val_loss: 101.3128 - val_mean_absolute_error: 3.7031\n",
      "Epoch 70/100\n",
      "39/39 [==============================] - 0s 2ms/step - loss: 3.9170 - mean_absolute_error: 0.9530 - val_loss: 108.5010 - val_mean_absolute_error: 3.8302\n",
      "Epoch 71/100\n",
      "39/39 [==============================] - 0s 2ms/step - loss: 3.7778 - mean_absolute_error: 0.9456 - val_loss: 111.3015 - val_mean_absolute_error: 3.8949\n",
      "Epoch 72/100\n",
      "39/39 [==============================] - 0s 2ms/step - loss: 3.6525 - mean_absolute_error: 0.9305 - val_loss: 102.5791 - val_mean_absolute_error: 3.7159\n",
      "Epoch 73/100\n",
      "39/39 [==============================] - 0s 3ms/step - loss: 3.6067 - mean_absolute_error: 0.9212 - val_loss: 106.3961 - val_mean_absolute_error: 3.7753\n",
      "Epoch 74/100\n",
      "39/39 [==============================] - 0s 3ms/step - loss: 3.7579 - mean_absolute_error: 0.9275 - val_loss: 96.1341 - val_mean_absolute_error: 3.6055\n",
      "Epoch 75/100\n",
      "39/39 [==============================] - 0s 2ms/step - loss: 4.5450 - mean_absolute_error: 1.0106 - val_loss: 100.9534 - val_mean_absolute_error: 3.7105\n",
      "Epoch 76/100\n",
      "39/39 [==============================] - 0s 2ms/step - loss: 4.2752 - mean_absolute_error: 1.0103 - val_loss: 112.3872 - val_mean_absolute_error: 3.8851\n",
      "Epoch 77/100\n",
      "39/39 [==============================] - 0s 3ms/step - loss: 3.5703 - mean_absolute_error: 0.9167 - val_loss: 105.9335 - val_mean_absolute_error: 3.7909\n",
      "Epoch 78/100\n",
      "39/39 [==============================] - 0s 2ms/step - loss: 3.6161 - mean_absolute_error: 0.9173 - val_loss: 107.5786 - val_mean_absolute_error: 3.8084\n",
      "Epoch 79/100\n",
      "39/39 [==============================] - 0s 2ms/step - loss: 3.5503 - mean_absolute_error: 0.9161 - val_loss: 108.9403 - val_mean_absolute_error: 3.8102\n",
      "Epoch 80/100\n",
      "39/39 [==============================] - 0s 2ms/step - loss: 3.5665 - mean_absolute_error: 0.9212 - val_loss: 108.0599 - val_mean_absolute_error: 3.7900\n",
      "Epoch 81/100\n",
      "39/39 [==============================] - 0s 2ms/step - loss: 3.6781 - mean_absolute_error: 0.9184 - val_loss: 94.5322 - val_mean_absolute_error: 3.5740\n",
      "Epoch 82/100\n",
      "39/39 [==============================] - 0s 2ms/step - loss: 7.8957 - mean_absolute_error: 1.1410 - val_loss: 94.3622 - val_mean_absolute_error: 3.5861\n",
      "Epoch 83/100\n",
      "39/39 [==============================] - 0s 2ms/step - loss: 5.8890 - mean_absolute_error: 1.1200 - val_loss: 111.4139 - val_mean_absolute_error: 3.8732\n",
      "Epoch 84/100\n",
      "39/39 [==============================] - 0s 2ms/step - loss: 4.0374 - mean_absolute_error: 0.9964 - val_loss: 98.2868 - val_mean_absolute_error: 3.6323\n",
      "Epoch 85/100\n",
      "39/39 [==============================] - 0s 2ms/step - loss: 3.5365 - mean_absolute_error: 0.9218 - val_loss: 103.4127 - val_mean_absolute_error: 3.6970\n",
      "Epoch 86/100\n",
      "39/39 [==============================] - 0s 2ms/step - loss: 3.5046 - mean_absolute_error: 0.9063 - val_loss: 97.2578 - val_mean_absolute_error: 3.6167\n",
      "Epoch 87/100\n",
      "39/39 [==============================] - 0s 2ms/step - loss: 3.7581 - mean_absolute_error: 0.9401 - val_loss: 93.6234 - val_mean_absolute_error: 3.5128\n",
      "Epoch 88/100\n",
      "39/39 [==============================] - 0s 2ms/step - loss: 3.6136 - mean_absolute_error: 0.9146 - val_loss: 102.4381 - val_mean_absolute_error: 3.7011\n",
      "Epoch 89/100\n",
      "39/39 [==============================] - 0s 2ms/step - loss: 3.4632 - mean_absolute_error: 0.9044 - val_loss: 97.2889 - val_mean_absolute_error: 3.5941\n",
      "Epoch 90/100\n",
      "39/39 [==============================] - 0s 2ms/step - loss: 3.5667 - mean_absolute_error: 0.9233 - val_loss: 97.4074 - val_mean_absolute_error: 3.5954\n",
      "Epoch 91/100\n",
      "39/39 [==============================] - 0s 2ms/step - loss: 3.4830 - mean_absolute_error: 0.9016 - val_loss: 97.1353 - val_mean_absolute_error: 3.5997\n",
      "Epoch 92/100\n",
      "39/39 [==============================] - 0s 2ms/step - loss: 3.5238 - mean_absolute_error: 0.9059 - val_loss: 99.7869 - val_mean_absolute_error: 3.6368\n",
      "Epoch 93/100\n",
      "39/39 [==============================] - 0s 2ms/step - loss: 3.4774 - mean_absolute_error: 0.9017 - val_loss: 95.6409 - val_mean_absolute_error: 3.5517\n",
      "Epoch 94/100\n",
      "39/39 [==============================] - 0s 2ms/step - loss: 3.5169 - mean_absolute_error: 0.9057 - val_loss: 93.4418 - val_mean_absolute_error: 3.5518\n",
      "Epoch 95/100\n",
      "39/39 [==============================] - 0s 2ms/step - loss: 3.5517 - mean_absolute_error: 0.9023 - val_loss: 88.1280 - val_mean_absolute_error: 3.4499\n",
      "Epoch 96/100\n",
      "39/39 [==============================] - 0s 2ms/step - loss: 3.9452 - mean_absolute_error: 0.9537 - val_loss: 104.1147 - val_mean_absolute_error: 3.6935\n",
      "Epoch 97/100\n",
      "39/39 [==============================] - 0s 2ms/step - loss: 4.1292 - mean_absolute_error: 0.9689 - val_loss: 95.2353 - val_mean_absolute_error: 3.5379\n",
      "Epoch 98/100\n",
      "39/39 [==============================] - 0s 2ms/step - loss: 13.2570 - mean_absolute_error: 1.2567 - val_loss: 74.0285 - val_mean_absolute_error: 3.3187\n",
      "Epoch 99/100\n"
     ]
    },
    {
     "name": "stdout",
     "output_type": "stream",
     "text": [
      "39/39 [==============================] - 0s 2ms/step - loss: 7.5318 - mean_absolute_error: 1.2795 - val_loss: 91.7809 - val_mean_absolute_error: 3.5346\n",
      "Epoch 100/100\n",
      "39/39 [==============================] - 0s 2ms/step - loss: 4.0064 - mean_absolute_error: 0.9885 - val_loss: 86.6144 - val_mean_absolute_error: 3.3985\n"
     ]
    },
    {
     "data": {
      "text/plain": [
       "<tensorflow.python.keras.callbacks.History at 0x7ff23a1bffa0>"
      ]
     },
     "execution_count": 88,
     "metadata": {},
     "output_type": "execute_result"
    }
   ],
   "source": [
    "model.compile(loss='mean_squared_error', optimizer='adam', metrics=['mean_absolute_error'])\n",
    "model.fit(train_x, train_y, epochs=100, batch_size=250, verbose=1, validation_split=0.2)"
   ]
  },
  {
   "cell_type": "code",
   "execution_count": 89,
   "id": "tracked-speech",
   "metadata": {},
   "outputs": [
    {
     "name": "stdout",
     "output_type": "stream",
     "text": [
      "380/380 [==============================] - 0s 1ms/step - loss: 20.3304 - mean_absolute_error: 1.4406\n"
     ]
    }
   ],
   "source": [
    "train_results = model.evaluate(train_x, train_y, verbose=1)"
   ]
  },
  {
   "cell_type": "code",
   "execution_count": 90,
   "id": "inclusive-implementation",
   "metadata": {},
   "outputs": [
    {
     "name": "stdout",
     "output_type": "stream",
     "text": [
      "100/100 [==============================] - 0s 1ms/step - loss: 160.4891 - mean_absolute_error: 5.4813\n"
     ]
    }
   ],
   "source": [
    "test_results = model.evaluate(test_x, test_y, verbose=1)"
   ]
  },
  {
   "cell_type": "code",
   "execution_count": 91,
   "id": "superb-thriller",
   "metadata": {},
   "outputs": [],
   "source": [
    "prediction_y = model.predict(test_x)"
   ]
  },
  {
   "cell_type": "code",
   "execution_count": 92,
   "id": "yellow-russell",
   "metadata": {},
   "outputs": [
    {
     "data": {
      "image/png": "[encoded data removed]",
      "text/plain": [
       "<Figure size 936x720 with 1 Axes>"
      ]
     },
     "metadata": {
      "needs_background": "light"
     },
     "output_type": "display_data"
    }
   ],
   "source": [
    "def plot_fig(curve1, curve2, prog, dataset):\n",
    "    i = (128 * 5 * prog) + (128 * dataset)\n",
    "    x1 = curve1[i: i + 128]\n",
    "    x2 = curve2[i: i + 128]\n",
    "    idx = np.argsort(x1[:, 0])\n",
    "    fig = plt.figure(figsize=(13,10))\n",
    "    plt.plot(x1[idx, 0])\n",
    "    plt.plot(x2[idx, 0])\n",
    "    plt.show()\n",
    "    plt.close(fig)\n",
    "    \n",
    "plot_fig(test_y, prediction_y, 3, 0)"
   ]
  },
  {
   "cell_type": "code",
   "execution_count": null,
   "id": "moderate-saver",
   "metadata": {},
   "outputs": [],
   "source": []
  },
  {
   "cell_type": "code",
   "execution_count": null,
   "id": "induced-elite",
   "metadata": {},
   "outputs": [],
   "source": []
  }
 ],
 "metadata": {
  "kernelspec": {
   "display_name": "Python 3",
   "language": "python",
   "name": "python3"
  },
  "language_info": {
   "codemirror_mode": {
    "name": "ipython",
    "version": 3
   },
   "file_extension": ".py",
   "mimetype": "text/x-python",
   "name": "python",
   "nbconvert_exporter": "python",
   "pygments_lexer": "ipython3",
   "version": "3.8.5"
  }
 },
 "nbformat": 4,
 "nbformat_minor": 5
}
